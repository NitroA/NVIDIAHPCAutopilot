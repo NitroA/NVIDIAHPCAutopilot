{
 "cells": [
  {
   "cell_type": "markdown",
   "id": "6b31dd7f",
   "metadata": {},
   "source": [
    "### DNN para a Sinalização Brasileria\n",
    "\n",
    "Deep Neural Network ou DNN é um módulo do OpenCV, trata-se de um módulo para realizar a infêrncias através de redes neurais pré-treinadas de imagens e videos. Tenha em mente que não é possivel realizar treinamento usando esse módulo. Este código foi baseado no repositório dnn_opencv de ArnaldoJR, disponível no github em: https://github.com/arnaldojr/dnn_opencv"
   ]
  },
  {
   "cell_type": "code",
   "execution_count": 1,
   "id": "d00fc814",
   "metadata": {},
   "outputs": [
    {
     "name": "stdout",
     "output_type": "stream",
     "text": [
      "OpenCV version: 4.5.5\n"
     ]
    }
   ],
   "source": [
    "import os\n",
    "import cv2\n",
    "print(\"OpenCV version:\", cv2.__version__)\n",
    "import numpy as np"
   ]
  },
  {
   "cell_type": "code",
   "execution_count": 2,
   "id": "6c36cf66",
   "metadata": {},
   "outputs": [
    {
     "name": "stdout",
     "output_type": "stream",
     "text": [
      "['person', 'bicycle', 'car', 'motorcycle', 'airplane', 'bus', 'train', 'truck', 'boat', 'traffic light', 'fire hydrant', 'street sign', 'stop sign', 'parking meter', 'bench', 'bird', 'cat', 'dog', 'horse', 'sheep', 'cow', 'elephant', 'bear', 'zebra', 'giraffe', 'hat', 'backpack', 'umbrella', 'shoe', 'eye glasses', 'handbag', 'tie', 'suitcase', 'frisbee', 'skis', 'snowboard', 'sports ball', 'kite', 'baseball bat', 'baseball glove', 'skateboard', 'surfboard', 'tennis racket', 'bottle', 'plate', 'wine glass', 'cup', 'fork', 'knife', 'spoon', 'bowl', 'banana', 'apple', 'sandwich', 'orange', 'broccoli', 'carrot', 'hot dog', 'pizza', 'donut', 'cake', 'chair', 'couch', 'potted plant', 'bed', 'mirror', 'dining table', 'window', 'desk', 'toilet', 'door', 'tv', 'laptop', 'mouse', 'remote', 'keyboard', 'cell phone', 'microwave', 'oven', 'toaster', 'sink', 'refrigerator', 'blender', 'book', 'clock', 'vase', 'scissors', 'teddy bear', 'hair drier', 'toothbrush', '']\n"
     ]
    }
   ],
   "source": [
    "class_names = ['person', 'bicycle', 'car', 'motorcycle', 'airplane', 'bus', 'train', 'truck', 'boat', 'traffic light', 'fire hydrant', 'street sign', 'stop sign', 'parking meter', 'bench', 'bird', 'cat', 'dog', 'horse', 'sheep', 'cow', 'elephant', 'bear', 'zebra', 'giraffe', 'hat', 'backpack', 'umbrella', 'shoe', 'eye glasses', 'handbag', 'tie', 'suitcase', 'frisbee', 'skis', 'snowboard', 'sports ball', 'kite', 'baseball bat', 'baseball glove', 'skateboard', 'surfboard', 'tennis racket', 'bottle', 'plate', 'wine glass', 'cup', 'fork', 'knife', 'spoon', 'bowl', 'banana', 'apple', 'sandwich', 'orange', 'broccoli', 'carrot', 'hot dog', 'pizza', 'donut', 'cake', 'chair', 'couch', 'potted plant', 'bed', 'mirror', 'dining table', 'window', 'desk', 'toilet', 'door', 'tv', 'laptop', 'mouse', 'remote', 'keyboard', 'cell phone', 'microwave', 'oven', 'toaster', 'sink', 'refrigerator', 'blender', 'book', 'clock', 'vase', 'scissors', 'teddy bear', 'hair drier', 'toothbrush', '']\n",
    "COLORS = np.random.uniform(0, 255, size=(len(class_names), 3))\n",
    "print(class_names)"
   ]
  },
  {
   "cell_type": "code",
   "execution_count": 4,
   "id": "b307031f",
   "metadata": {},
   "outputs": [],
   "source": [
    "def draw_boxes_masks(image, boxes, masks, labels, confidence=0.5, threshold=0.3):\n",
    "    clone = image.copy()\n",
    "    rois = []\n",
    "    for i in range(0, boxes.shape[2]):\n",
    "        classID = int(boxes[0, 0, i, 1])\n",
    "        score = boxes[0, 0, i, 2]\n",
    "        if score > confidence:\n",
    "            (H, W) = clone.shape[:2]\n",
    "            box = boxes[0, 0, i, 3:7] * np.array([W, H, W, H])\n",
    "\n",
    "            (startX, startY, endX, endY) = box.astype(\"int\")\n",
    "            boxW = endX - startX\n",
    "            boxH = endY - startY\n",
    "\n",
    "            mask = masks[i, classID]\n",
    "            mask = cv2.resize(mask, (boxW, boxH),interpolation=cv2.INTER_CUBIC)\n",
    "            mask = (mask > threshold)\n",
    "\n",
    "            roi = clone[startY:endY, startX:endX]\n",
    "\n",
    "            roi = roi[mask]\n",
    "\n",
    "            color = COLORS[classID]\n",
    "\n",
    "            blended = ((0.4 * color) + (0.6 * roi)).astype(\"uint8\")\n",
    "\n",
    "            clone[startY:endY, startX:endX][mask] = blended\n",
    "\n",
    "            color = [int(c) for c in color]\n",
    "            cv2.rectangle(clone, (startX, startY), (endX, endY), color, 2)\n",
    "\n",
    "            text = \"{}: {:.4f}\".format(labels[classID], score)\n",
    "            cv2.putText(clone, text, (startX, startY - 5),cv2.FONT_HERSHEY_SIMPLEX, 0.5, color, 2)\n",
    "    return clone"
   ]
  },
  {
   "cell_type": "markdown",
   "id": "792f2830",
   "metadata": {},
   "source": [
    "referencia da mask rcnn coco: https://github.com/sambhav37/Mask-R-CNN"
   ]
  },
  {
   "cell_type": "code",
   "execution_count": 3,
   "id": "fac3d8bf",
   "metadata": {},
   "outputs": [],
   "source": [
    "# load the DNN model\n",
    "model = cv2.dnn.readNet(model='Mask-R-CNN/mask-rcnn-coco/frozen_inference_graph.pb',\n",
    "                        config='Mask-R-CNN/mask-rcnn-coco/mask_rcnn_inception_v2_coco_2018_01_28.pbtxt',framework='TensorFlow')"
   ]
  },
  {
   "cell_type": "code",
   "execution_count": 15,
   "id": "810ffce4",
   "metadata": {},
   "outputs": [],
   "source": [
    "\n",
    "\n",
    "# import the necessary packages\n",
    "\n",
    "import cv2\n",
    "import numpy as np\n",
    "import time\n",
    "\n",
    "class_names = ['person', 'bicycle', 'car', 'motorcycle', 'airplane', 'bus', 'train', 'truck', 'boat', 'traffic light', 'fire hydrant', 'street sign', 'stop sign', 'parking meter', 'bench', 'bird', 'cat', 'dog', 'horse', 'sheep', 'cow', 'elephant', 'bear', 'zebra', 'giraffe', 'hat', 'backpack', 'umbrella', 'shoe', 'eye glasses', 'handbag', 'tie', 'suitcase', 'frisbee', 'skis', 'snowboard', 'sports ball', 'kite', 'baseball bat', 'baseball glove', 'skateboard', 'surfboard', 'tennis racket', 'bottle', 'plate', 'wine glass', 'cup', 'fork', 'knife', 'spoon', 'bowl', 'banana', 'apple', 'sandwich', 'orange', 'broccoli', 'carrot', 'hot dog', 'pizza', 'donut', 'cake', 'chair', 'couch', 'potted plant', 'bed', 'mirror', 'dining table', 'window', 'desk', 'toilet', 'door', 'tv', 'laptop', 'mouse', 'remote', 'keyboard', 'cell phone', 'microwave', 'oven', 'toaster', 'sink', 'refrigerator', 'blender', 'book', 'clock', 'vase', 'scissors', 'teddy bear', 'hair drier', 'toothbrush', '']\n",
    "COLORS = np.random.uniform(0, 255, size=(len(class_names), 3))\n",
    "\n",
    "# load the DNN model\n",
    "model = cv2.dnn.readNet(model='Mask-R-CNN/mask-rcnn-coco/frozen_inference_graph.pb',\n",
    "                        config='Mask-R-CNN/mask-rcnn-coco/mask_rcnn_inception_v2_coco_2018_01_28.pbtxt',framework='TensorFlow')\n",
    "\n",
    "\n",
    "image_x, image_y = 32,32\n",
    "\n",
    "\n",
    "#classifier = load_model(\"LeNet5_BRA.model\")\n",
    "    \n",
    "cam = cv2.VideoCapture(0)\n",
    "\n",
    "img_counter = 0\n",
    "\n",
    "img_text = ['','']\n",
    "while True:\n",
    "    ret, frame = cam.read()\n",
    "\n",
    "    blob = cv2.dnn.blobFromImage(image=frame, swapRB=True, crop=False)\n",
    "    # set the blob to the model\n",
    "    model.setInput(blob)\n",
    "    \n",
    "    output = model.forward([\"detection_out_final\", \"detection_masks\"])\n",
    "    (boxes, masks) = output\n",
    "\n",
    "    drawed_image = draw_boxes_masks(\n",
    "        frame,\n",
    "        boxes,\n",
    "        masks,\n",
    "        class_names\n",
    "    )\n",
    "\n",
    "    cv2.imshow('image', drawed_image)\n",
    "       \n",
    "        \n",
    "    if cv2.waitKey(1) == 113:\n",
    "        break\n",
    "\n",
    "cam.release()\n",
    "cv2.destroyAllWindows()"
   ]
  },
  {
   "cell_type": "code",
   "execution_count": null,
   "id": "8921057f",
   "metadata": {},
   "outputs": [],
   "source": []
  }
 ],
 "metadata": {
  "kernelspec": {
   "display_name": "Python 3",
   "language": "python",
   "name": "python3"
  },
  "language_info": {
   "codemirror_mode": {
    "name": "ipython",
    "version": 3
   },
   "file_extension": ".py",
   "mimetype": "text/x-python",
   "name": "python",
   "nbconvert_exporter": "python",
   "pygments_lexer": "ipython3",
   "version": "3.8.10"
  }
 },
 "nbformat": 4,
 "nbformat_minor": 5
}
